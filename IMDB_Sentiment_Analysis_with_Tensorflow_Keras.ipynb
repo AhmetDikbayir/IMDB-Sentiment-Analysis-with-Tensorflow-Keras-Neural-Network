{
 "cells": [
  {
   "cell_type": "markdown",
   "id": "6e20d2f3",
   "metadata": {},
   "source": [
    "# Executive Summary\n",
    "\n",
    "## About the dataset\n",
    "\n",
    "    * IMDB movie review dataset was used in this project.\n",
    "    * There are 25.000 training review and the same quantity of the test data.\n",
    "    * The ready word index was used in this project. \n",
    "\n",
    "## Preprocessing the dataset\n",
    "\n",
    "    * Convert the words to numeric thanks to word index by defining a function.\n",
    "    * Added some html codes in this index.\n",
    "    * Split the data train and test.\n",
    "    \n",
    "## Build the Model\n",
    "\n",
    "     * Sequential API was used.\n",
    "     * Embedding Layer, after that Global Average Pooling, one hidden layer, two Dropout and Output Layer.\n",
    "     * ReLu activation function was used in the hidden layer and Sigmoid activation function in the output layer.\n",
    "     * Adam optimizer function and Binary crossentropy for loss and accuracy metrics was used in the model. \n",
    "    \n",
    "## Evaluate the Model\n",
    "     * After training this model, my model had overfitting. \n",
    "     * To overcome this problem, I added Dropout layer aafter the Global Average Pool Layer with 0.2 percentage. \n",
    "     * After added this layers, overfitting was still going on. \n",
    "     * So, I added another Dropout Layer after the hidden layer. \n",
    "     * When restart the analysis, I achieved reliable and acceptable results.\n",
    "     * My model accuracy is .92 and validation score is .88. \n",
    "     * I also visualize the train and test loss and accuracy. \n",
    "     * Train dataset accuracy and test dataset do not differentiate significantly each other.\n",
    "     * So it can be said that over-fitting cannot be seen. \n",
    "     * All in all, I can say that my model is reliable model to determine the movie review.\n"
   ]
  },
  {
   "cell_type": "markdown",
   "id": "fe4a13ab",
   "metadata": {},
   "source": [
    "# Import the Libraries"
   ]
  },
  {
   "cell_type": "code",
   "execution_count": 21,
   "id": "81399b81",
   "metadata": {},
   "outputs": [],
   "source": [
    "import pandas as pd\n",
    "import numpy as np\n",
    "import tensorflow as tf\n",
    "import tensorflow.keras as keras\n",
    "import matplotlib.pyplot as plt"
   ]
  },
  {
   "cell_type": "markdown",
   "id": "1e9730f6",
   "metadata": {},
   "source": [
    "# Import the Dataset"
   ]
  },
  {
   "cell_type": "code",
   "execution_count": 2,
   "id": "6587909b",
   "metadata": {},
   "outputs": [],
   "source": [
    "imdb_reviews = pd.read_csv('imdb_reviews.csv')\n",
    "test_reviews = pd.read_csv('test_reviews.csv')"
   ]
  },
  {
   "cell_type": "code",
   "execution_count": 3,
   "id": "b23a1d48",
   "metadata": {
    "scrolled": false
   },
   "outputs": [
    {
     "data": {
      "text/html": [
       "<div>\n",
       "<style scoped>\n",
       "    .dataframe tbody tr th:only-of-type {\n",
       "        vertical-align: middle;\n",
       "    }\n",
       "\n",
       "    .dataframe tbody tr th {\n",
       "        vertical-align: top;\n",
       "    }\n",
       "\n",
       "    .dataframe thead th {\n",
       "        text-align: right;\n",
       "    }\n",
       "</style>\n",
       "<table border=\"1\" class=\"dataframe\">\n",
       "  <thead>\n",
       "    <tr style=\"text-align: right;\">\n",
       "      <th></th>\n",
       "      <th>Reviews</th>\n",
       "      <th>Sentiment</th>\n",
       "    </tr>\n",
       "  </thead>\n",
       "  <tbody>\n",
       "    <tr>\n",
       "      <th>0</th>\n",
       "      <td>&lt;START this film was just brilliant casting lo...</td>\n",
       "      <td>positive</td>\n",
       "    </tr>\n",
       "    <tr>\n",
       "      <th>1</th>\n",
       "      <td>&lt;START big hair big boobs bad music and a gian...</td>\n",
       "      <td>negative</td>\n",
       "    </tr>\n",
       "    <tr>\n",
       "      <th>2</th>\n",
       "      <td>&lt;START this has to be one of the worst films o...</td>\n",
       "      <td>negative</td>\n",
       "    </tr>\n",
       "    <tr>\n",
       "      <th>3</th>\n",
       "      <td>&lt;START the &lt;UNK&gt; &lt;UNK&gt; at storytelling the tra...</td>\n",
       "      <td>positive</td>\n",
       "    </tr>\n",
       "    <tr>\n",
       "      <th>4</th>\n",
       "      <td>&lt;START worst mistake of my life br br i picked...</td>\n",
       "      <td>negative</td>\n",
       "    </tr>\n",
       "  </tbody>\n",
       "</table>\n",
       "</div>"
      ],
      "text/plain": [
       "                                             Reviews Sentiment\n",
       "0  <START this film was just brilliant casting lo...  positive\n",
       "1  <START big hair big boobs bad music and a gian...  negative\n",
       "2  <START this has to be one of the worst films o...  negative\n",
       "3  <START the <UNK> <UNK> at storytelling the tra...  positive\n",
       "4  <START worst mistake of my life br br i picked...  negative"
      ]
     },
     "execution_count": 3,
     "metadata": {},
     "output_type": "execute_result"
    }
   ],
   "source": [
    "imdb_reviews.head()"
   ]
  },
  {
   "cell_type": "code",
   "execution_count": 45,
   "id": "f7208026",
   "metadata": {},
   "outputs": [
    {
     "name": "stdout",
     "output_type": "stream",
     "text": [
      "<class 'pandas.core.frame.DataFrame'>\n",
      "RangeIndex: 25000 entries, 0 to 24999\n",
      "Data columns (total 2 columns):\n",
      " #   Column     Non-Null Count  Dtype \n",
      "---  ------     --------------  ----- \n",
      " 0   Reviews    25000 non-null  object\n",
      " 1   Sentiment  25000 non-null  object\n",
      "dtypes: object(2)\n",
      "memory usage: 390.8+ KB\n"
     ]
    }
   ],
   "source": [
    "imdb_reviews.info()"
   ]
  },
  {
   "cell_type": "code",
   "execution_count": 46,
   "id": "25556a02",
   "metadata": {},
   "outputs": [
    {
     "name": "stdout",
     "output_type": "stream",
     "text": [
      "<class 'pandas.core.frame.DataFrame'>\n",
      "RangeIndex: 25000 entries, 0 to 24999\n",
      "Data columns (total 2 columns):\n",
      " #   Column     Non-Null Count  Dtype \n",
      "---  ------     --------------  ----- \n",
      " 0   Reviews    25000 non-null  object\n",
      " 1   Sentiment  25000 non-null  object\n",
      "dtypes: object(2)\n",
      "memory usage: 390.8+ KB\n"
     ]
    }
   ],
   "source": [
    "test_reviews.info()"
   ]
  },
  {
   "cell_type": "markdown",
   "id": "52cfc2ef",
   "metadata": {},
   "source": [
    "# Import the Word Index File\n",
    "\n",
    "This file was used in this project for converting words to the numbers"
   ]
  },
  {
   "cell_type": "code",
   "execution_count": 4,
   "id": "e50133d9",
   "metadata": {},
   "outputs": [],
   "source": [
    "word_index = pd.read_csv('word_indexes.csv')"
   ]
  },
  {
   "cell_type": "code",
   "execution_count": 5,
   "id": "ab2b3314",
   "metadata": {
    "scrolled": false
   },
   "outputs": [
    {
     "data": {
      "text/html": [
       "<div>\n",
       "<style scoped>\n",
       "    .dataframe tbody tr th:only-of-type {\n",
       "        vertical-align: middle;\n",
       "    }\n",
       "\n",
       "    .dataframe tbody tr th {\n",
       "        vertical-align: top;\n",
       "    }\n",
       "\n",
       "    .dataframe thead th {\n",
       "        text-align: right;\n",
       "    }\n",
       "</style>\n",
       "<table border=\"1\" class=\"dataframe\">\n",
       "  <thead>\n",
       "    <tr style=\"text-align: right;\">\n",
       "      <th></th>\n",
       "      <th>Words</th>\n",
       "      <th>Indexes</th>\n",
       "    </tr>\n",
       "  </thead>\n",
       "  <tbody>\n",
       "    <tr>\n",
       "      <th>0</th>\n",
       "      <td>tsukino</td>\n",
       "      <td>52009</td>\n",
       "    </tr>\n",
       "    <tr>\n",
       "      <th>1</th>\n",
       "      <td>nunnery</td>\n",
       "      <td>52010</td>\n",
       "    </tr>\n",
       "    <tr>\n",
       "      <th>2</th>\n",
       "      <td>sonja</td>\n",
       "      <td>16819</td>\n",
       "    </tr>\n",
       "    <tr>\n",
       "      <th>3</th>\n",
       "      <td>vani</td>\n",
       "      <td>63954</td>\n",
       "    </tr>\n",
       "    <tr>\n",
       "      <th>4</th>\n",
       "      <td>woods</td>\n",
       "      <td>1411</td>\n",
       "    </tr>\n",
       "  </tbody>\n",
       "</table>\n",
       "</div>"
      ],
      "text/plain": [
       "     Words  Indexes\n",
       "0  tsukino    52009\n",
       "1  nunnery    52010\n",
       "2    sonja    16819\n",
       "3     vani    63954\n",
       "4    woods     1411"
      ]
     },
     "execution_count": 5,
     "metadata": {},
     "output_type": "execute_result"
    }
   ],
   "source": [
    "word_index.head()"
   ]
  },
  {
   "cell_type": "markdown",
   "id": "cf9ec5ba",
   "metadata": {},
   "source": [
    "## Convert the word index to dictionary"
   ]
  },
  {
   "cell_type": "code",
   "execution_count": 6,
   "id": "076b3ccd",
   "metadata": {},
   "outputs": [],
   "source": [
    "word_index = dict(zip(word_index.Words, word_index.Indexes))"
   ]
  },
  {
   "cell_type": "markdown",
   "id": "f8ca55e2",
   "metadata": {},
   "source": [
    "## Add some words in the Word index"
   ]
  },
  {
   "cell_type": "code",
   "execution_count": 7,
   "id": "cca172b0",
   "metadata": {
    "scrolled": false
   },
   "outputs": [],
   "source": [
    "word_index[\"<PAD>\"] = 0\n",
    "word_index[\"<START\"]=1\n",
    "word_index[\"<UNK>\"] = 2\n",
    "word_index[\"<UNUSED>\"]=3"
   ]
  },
  {
   "cell_type": "markdown",
   "id": "0f166de7",
   "metadata": {},
   "source": [
    "## Function for converting the words to the numbers which was identified in the Word Index file"
   ]
  },
  {
   "cell_type": "code",
   "execution_count": 8,
   "id": "95e1f17a",
   "metadata": {},
   "outputs": [],
   "source": [
    "def review_encoder(text):\n",
    "    arr = [word_index[word] for word in text]\n",
    "    return arr"
   ]
  },
  {
   "cell_type": "code",
   "execution_count": 9,
   "id": "3811fb3c",
   "metadata": {},
   "outputs": [],
   "source": [
    "train_data, train_labels=imdb_reviews['Reviews'], imdb_reviews['Sentiment']\n",
    "test_data, test_labels=test_reviews['Reviews'], test_reviews['Sentiment']"
   ]
  },
  {
   "cell_type": "code",
   "execution_count": 10,
   "id": "d88068a7",
   "metadata": {
    "scrolled": false
   },
   "outputs": [
    {
     "data": {
      "text/plain": [
       "0    <START this film was just brilliant casting lo...\n",
       "1    <START big hair big boobs bad music and a gian...\n",
       "2    <START this has to be one of the worst films o...\n",
       "3    <START the <UNK> <UNK> at storytelling the tra...\n",
       "4    <START worst mistake of my life br br i picked...\n",
       "Name: Reviews, dtype: object"
      ]
     },
     "execution_count": 10,
     "metadata": {},
     "output_type": "execute_result"
    }
   ],
   "source": [
    "train_data.head()"
   ]
  },
  {
   "cell_type": "markdown",
   "id": "1a9c6c84",
   "metadata": {},
   "source": [
    "## Split the sentences into the words"
   ]
  },
  {
   "cell_type": "code",
   "execution_count": 11,
   "id": "9a35381d",
   "metadata": {},
   "outputs": [],
   "source": [
    "train_data = train_data.apply(lambda review:review.split())\n",
    "test_data = test_data.apply(lambda review:review.split())"
   ]
  },
  {
   "cell_type": "markdown",
   "id": "e1ee87dc",
   "metadata": {},
   "source": [
    "## Convert words in the train data to the numbers"
   ]
  },
  {
   "cell_type": "code",
   "execution_count": 12,
   "id": "ba02952a",
   "metadata": {},
   "outputs": [],
   "source": [
    "train_data = train_data.apply(review_encoder)\n",
    "test_data = test_data.apply(review_encoder)"
   ]
  },
  {
   "cell_type": "code",
   "execution_count": 83,
   "id": "bde14e64",
   "metadata": {},
   "outputs": [
    {
     "data": {
      "text/plain": [
       "[1,\n",
       " 14,\n",
       " 22,\n",
       " 16,\n",
       " 43,\n",
       " 530,\n",
       " 973,\n",
       " 1622,\n",
       " 1385,\n",
       " 65,\n",
       " 458,\n",
       " 4468,\n",
       " 66,\n",
       " 3941,\n",
       " 4,\n",
       " 173,\n",
       " 36,\n",
       " 256,\n",
       " 5,\n",
       " 25,\n",
       " 100,\n",
       " 43,\n",
       " 838,\n",
       " 112,\n",
       " 50,\n",
       " 670,\n",
       " 2,\n",
       " 9,\n",
       " 35,\n",
       " 480,\n",
       " 284,\n",
       " 5,\n",
       " 150,\n",
       " 4,\n",
       " 172,\n",
       " 112,\n",
       " 167,\n",
       " 2,\n",
       " 336,\n",
       " 385,\n",
       " 39,\n",
       " 4,\n",
       " 172,\n",
       " 4536,\n",
       " 1111,\n",
       " 17,\n",
       " 546,\n",
       " 38,\n",
       " 13,\n",
       " 447,\n",
       " 4,\n",
       " 192,\n",
       " 50,\n",
       " 16,\n",
       " 6,\n",
       " 147,\n",
       " 2025,\n",
       " 19,\n",
       " 14,\n",
       " 22,\n",
       " 4,\n",
       " 1920,\n",
       " 4613,\n",
       " 469,\n",
       " 4,\n",
       " 22,\n",
       " 71,\n",
       " 87,\n",
       " 12,\n",
       " 16,\n",
       " 43,\n",
       " 530,\n",
       " 38,\n",
       " 76,\n",
       " 15,\n",
       " 13,\n",
       " 1247,\n",
       " 4,\n",
       " 22,\n",
       " 17,\n",
       " 515,\n",
       " 17,\n",
       " 12,\n",
       " 16,\n",
       " 626,\n",
       " 18,\n",
       " 2,\n",
       " 5,\n",
       " 62,\n",
       " 386,\n",
       " 12,\n",
       " 8,\n",
       " 316,\n",
       " 8,\n",
       " 106,\n",
       " 5,\n",
       " 4,\n",
       " 2223,\n",
       " 5244,\n",
       " 16,\n",
       " 480,\n",
       " 66,\n",
       " 3785,\n",
       " 33,\n",
       " 4,\n",
       " 130,\n",
       " 12,\n",
       " 16,\n",
       " 38,\n",
       " 619,\n",
       " 5,\n",
       " 25,\n",
       " 124,\n",
       " 51,\n",
       " 36,\n",
       " 135,\n",
       " 48,\n",
       " 25,\n",
       " 1415,\n",
       " 33,\n",
       " 6,\n",
       " 22,\n",
       " 12,\n",
       " 215,\n",
       " 28,\n",
       " 77,\n",
       " 52,\n",
       " 5,\n",
       " 14,\n",
       " 407,\n",
       " 16,\n",
       " 82,\n",
       " 2,\n",
       " 8,\n",
       " 4,\n",
       " 107,\n",
       " 117,\n",
       " 5952,\n",
       " 15,\n",
       " 256,\n",
       " 4,\n",
       " 2,\n",
       " 7,\n",
       " 3766,\n",
       " 5,\n",
       " 723,\n",
       " 36,\n",
       " 71,\n",
       " 43,\n",
       " 530,\n",
       " 476,\n",
       " 26,\n",
       " 400,\n",
       " 317,\n",
       " 46,\n",
       " 7,\n",
       " 4,\n",
       " 2,\n",
       " 1029,\n",
       " 13,\n",
       " 104,\n",
       " 88,\n",
       " 4,\n",
       " 381,\n",
       " 15,\n",
       " 297,\n",
       " 98,\n",
       " 32,\n",
       " 2071,\n",
       " 56,\n",
       " 26,\n",
       " 141,\n",
       " 6,\n",
       " 194,\n",
       " 7486,\n",
       " 18,\n",
       " 4,\n",
       " 226,\n",
       " 22,\n",
       " 21,\n",
       " 134,\n",
       " 476,\n",
       " 26,\n",
       " 480,\n",
       " 5,\n",
       " 144,\n",
       " 30,\n",
       " 5535,\n",
       " 18,\n",
       " 51,\n",
       " 36,\n",
       " 28,\n",
       " 224,\n",
       " 92,\n",
       " 25,\n",
       " 104,\n",
       " 4,\n",
       " 226,\n",
       " 65,\n",
       " 16,\n",
       " 38,\n",
       " 1334,\n",
       " 88,\n",
       " 12,\n",
       " 16,\n",
       " 283,\n",
       " 5,\n",
       " 16,\n",
       " 4472,\n",
       " 113,\n",
       " 103,\n",
       " 32,\n",
       " 15,\n",
       " 16,\n",
       " 5345,\n",
       " 19,\n",
       " 178,\n",
       " 32]"
      ]
     },
     "execution_count": 83,
     "metadata": {},
     "output_type": "execute_result"
    }
   ],
   "source": [
    "train_data[0]"
   ]
  },
  {
   "cell_type": "markdown",
   "id": "43a810c2",
   "metadata": {},
   "source": [
    "## Transform the Sentiment column to the numeric"
   ]
  },
  {
   "cell_type": "code",
   "execution_count": 13,
   "id": "8375f34a",
   "metadata": {},
   "outputs": [],
   "source": [
    "def encode_sentiments(sentiment):\n",
    "    if(sentiment == 'positive'):\n",
    "        return 1\n",
    "    else:\n",
    "        return 0"
   ]
  },
  {
   "cell_type": "code",
   "execution_count": 14,
   "id": "292ca919",
   "metadata": {},
   "outputs": [],
   "source": [
    "train_labels = train_labels.apply(encode_sentiments)\n",
    "test_labels = test_labels.apply(encode_sentiments)"
   ]
  },
  {
   "cell_type": "code",
   "execution_count": 15,
   "id": "9779f9a1",
   "metadata": {},
   "outputs": [],
   "source": [
    "train_data = keras.preprocessing.sequence.pad_sequences(train_data, value=word_index[\"<PAD>\"], padding='post', maxlen = 500)\n",
    "test_data = keras.preprocessing.sequence.pad_sequences(test_data, value=word_index[\"<PAD>\"], padding='post', maxlen = 500)"
   ]
  },
  {
   "cell_type": "markdown",
   "id": "804e7b6b",
   "metadata": {},
   "source": [
    "# Build the Model\n",
    "\n",
    "I used Sequential Function, firstly I used Embedding Layer, after that Global Average Pooling, one hidden layer, two Dropout and Output Layer. I used ReLu activation function in the hidden layer and Sigmoid activation function in the output layer. I also used Adam optimizer function and Binary crossentropy for loss and accuracy metrics. After training this model, my model had overfitting. To overcome this problem, I added Dropout layer aafter the Global Average Pool Layer with 0.2 percentage. After added this layers, overfitting was still going on. So, I added another Dropout Layer after the hidden layer. When restart the analysis, I achieved reliable and acceptable results."
   ]
  },
  {
   "cell_type": "code",
   "execution_count": 39,
   "id": "cef23502",
   "metadata": {},
   "outputs": [],
   "source": [
    "model = keras.Sequential([keras.layers.Embedding(10000,16, input_length=500),\n",
    "                        keras.layers.GlobalAveragePooling1D(),\n",
    "                        keras.layers.Dropout(0.2),\n",
    "                        keras.layers.Dense(16, activation='relu'),\n",
    "                        keras.layers.Dropout(0.4),\n",
    "                        keras.layers.Dense(1,activation='sigmoid')])"
   ]
  },
  {
   "cell_type": "code",
   "execution_count": 40,
   "id": "3461a4ff",
   "metadata": {},
   "outputs": [],
   "source": [
    "model.compile(optimizer='adam', loss= 'binary_crossentropy', metrics= ['accuracy'])"
   ]
  },
  {
   "cell_type": "code",
   "execution_count": 41,
   "id": "208746b6",
   "metadata": {
    "scrolled": true
   },
   "outputs": [
    {
     "name": "stdout",
     "output_type": "stream",
     "text": [
      "Epoch 1/20\n",
      "49/49 [==============================] - 3s 44ms/step - loss: 0.6923 - accuracy: 0.5275 - val_loss: 0.6907 - val_accuracy: 0.6595\n",
      "Epoch 2/20\n",
      "49/49 [==============================] - 2s 40ms/step - loss: 0.6870 - accuracy: 0.6081 - val_loss: 0.6821 - val_accuracy: 0.7262\n",
      "Epoch 3/20\n",
      "49/49 [==============================] - 2s 40ms/step - loss: 0.6718 - accuracy: 0.6782 - val_loss: 0.6604 - val_accuracy: 0.7405\n",
      "Epoch 4/20\n",
      "49/49 [==============================] - 2s 42ms/step - loss: 0.6413 - accuracy: 0.7284 - val_loss: 0.6220 - val_accuracy: 0.7849\n",
      "Epoch 5/20\n",
      "49/49 [==============================] - 2s 42ms/step - loss: 0.5944 - accuracy: 0.7627 - val_loss: 0.5704 - val_accuracy: 0.8048\n",
      "Epoch 6/20\n",
      "49/49 [==============================] - 2s 40ms/step - loss: 0.5411 - accuracy: 0.7888 - val_loss: 0.5171 - val_accuracy: 0.8296\n",
      "Epoch 7/20\n",
      "49/49 [==============================] - 2s 41ms/step - loss: 0.4875 - accuracy: 0.8202 - val_loss: 0.4669 - val_accuracy: 0.8386\n",
      "Epoch 8/20\n",
      "49/49 [==============================] - 2s 46ms/step - loss: 0.4397 - accuracy: 0.8384 - val_loss: 0.4273 - val_accuracy: 0.8520\n",
      "Epoch 9/20\n",
      "49/49 [==============================] - 2s 43ms/step - loss: 0.3998 - accuracy: 0.8582 - val_loss: 0.3929 - val_accuracy: 0.8615\n",
      "Epoch 10/20\n",
      "49/49 [==============================] - 2s 41ms/step - loss: 0.3698 - accuracy: 0.8670 - val_loss: 0.3686 - val_accuracy: 0.8658\n",
      "Epoch 11/20\n",
      "49/49 [==============================] - 2s 42ms/step - loss: 0.3462 - accuracy: 0.8761 - val_loss: 0.3494 - val_accuracy: 0.8712\n",
      "Epoch 12/20\n",
      "49/49 [==============================] - 2s 42ms/step - loss: 0.3249 - accuracy: 0.8831 - val_loss: 0.3356 - val_accuracy: 0.8729\n",
      "Epoch 13/20\n",
      "49/49 [==============================] - 2s 43ms/step - loss: 0.3066 - accuracy: 0.8918 - val_loss: 0.3228 - val_accuracy: 0.8768\n",
      "Epoch 14/20\n",
      "49/49 [==============================] - 2s 41ms/step - loss: 0.2939 - accuracy: 0.8940 - val_loss: 0.3177 - val_accuracy: 0.8741\n",
      "Epoch 15/20\n",
      "49/49 [==============================] - 2s 44ms/step - loss: 0.2765 - accuracy: 0.9010 - val_loss: 0.3068 - val_accuracy: 0.8794\n",
      "Epoch 16/20\n",
      "49/49 [==============================] - 2s 46ms/step - loss: 0.2675 - accuracy: 0.9028 - val_loss: 0.3039 - val_accuracy: 0.8779\n",
      "Epoch 17/20\n",
      "49/49 [==============================] - 2s 45ms/step - loss: 0.2578 - accuracy: 0.9104 - val_loss: 0.2967 - val_accuracy: 0.8824\n",
      "Epoch 18/20\n",
      "49/49 [==============================] - 2s 43ms/step - loss: 0.2495 - accuracy: 0.9114 - val_loss: 0.2914 - val_accuracy: 0.8841\n",
      "Epoch 19/20\n",
      "49/49 [==============================] - 2s 47ms/step - loss: 0.2382 - accuracy: 0.9162 - val_loss: 0.2912 - val_accuracy: 0.8839\n",
      "Epoch 20/20\n",
      "49/49 [==============================] - 2s 42ms/step - loss: 0.2281 - accuracy: 0.9200 - val_loss: 0.2854 - val_accuracy: 0.8860\n"
     ]
    }
   ],
   "source": [
    "history_model = model.fit(train_data,train_labels,epochs = 20, batch_size=512, validation_data= [test_data,test_labels] )"
   ]
  },
  {
   "cell_type": "code",
   "execution_count": 42,
   "id": "ddafb52a",
   "metadata": {},
   "outputs": [
    {
     "data": {
      "text/plain": [
       "dict_keys(['loss', 'accuracy', 'val_loss', 'val_accuracy'])"
      ]
     },
     "execution_count": 42,
     "metadata": {},
     "output_type": "execute_result"
    }
   ],
   "source": [
    "history_dict = history_model.history\n",
    "history_dict.keys()"
   ]
  },
  {
   "cell_type": "code",
   "execution_count": 43,
   "id": "f3393fe4",
   "metadata": {
    "scrolled": true
   },
   "outputs": [
    {
     "data": {
      "image/png": "[encoded data removed]",
      "text/plain": [
       "<Figure size 432x288 with 1 Axes>"
      ]
     },
     "metadata": {
      "needs_background": "light"
     },
     "output_type": "display_data"
    }
   ],
   "source": [
    "acc = history_dict['accuracy']\n",
    "val_acc = history_dict['val_accuracy']\n",
    "loss = history_dict['loss']\n",
    "val_loss = history_dict['val_loss']\n",
    "\n",
    "epochs = range(1, len(acc) + 1)\n",
    "\n",
    "# \"bo\" is for \"blue dot\"\n",
    "plt.plot(epochs, loss, 'bo', label='Training loss')\n",
    "# b is for \"solid blue line\"\n",
    "plt.plot(epochs, val_loss, 'b', label='Validation loss')\n",
    "plt.title('Training and validation loss')\n",
    "plt.xlabel('Epochs')\n",
    "plt.ylabel('Loss')\n",
    "plt.legend()\n",
    "\n",
    "plt.show()"
   ]
  },
  {
   "cell_type": "code",
   "execution_count": 44,
   "id": "6a2669aa",
   "metadata": {},
   "outputs": [
    {
     "data": {
      "image/png": "[encoded data removed]",
      "text/plain": [
       "<Figure size 432x288 with 1 Axes>"
      ]
     },
     "metadata": {
      "needs_background": "light"
     },
     "output_type": "display_data"
    }
   ],
   "source": [
    "plt.plot(epochs, acc, 'bo', label='Training acc')\n",
    "plt.plot(epochs, val_acc, 'b', label='Validation acc')\n",
    "plt.title('Training and validation accuracy')\n",
    "plt.xlabel('Epochs')\n",
    "plt.ylabel('Accuracy')\n",
    "plt.legend(loc='lower right')\n",
    "\n",
    "plt.show()"
   ]
  },
  {
   "cell_type": "markdown",
   "id": "58c14c95",
   "metadata": {},
   "source": [
    "# Interpretation of the training results\n",
    "\n",
    "My model accuracy is .92 and validation score is .88. I also visualize the train and test loss and accuracy. During the analysis, over-fitting cannot be seen. In other words, train dataset accuracy and test dataset do not differentiate significantly each other. All in all, I can say that my model is reliable model to determine the movie review."
   ]
  },
  {
   "cell_type": "code",
   "execution_count": null,
   "id": "2191f5b5",
   "metadata": {},
   "outputs": [],
   "source": []
  }
 ],
 "metadata": {
  "kernelspec": {
   "display_name": "Python 3 (ipykernel)",
   "language": "python",
   "name": "python3"
  },
  "language_info": {
   "codemirror_mode": {
    "name": "ipython",
    "version": 3
   },
   "file_extension": ".py",
   "mimetype": "text/x-python",
   "name": "python",
   "nbconvert_exporter": "python",
   "pygments_lexer": "ipython3",
   "version": "3.9.12"
  }
 },
 "nbformat": 4,
 "nbformat_minor": 5
}
